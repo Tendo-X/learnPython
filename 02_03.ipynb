{
 "cells": [
  {
   "cell_type": "code",
   "execution_count": 1,
   "metadata": {},
   "outputs": [
    {
     "name": "stdout",
     "output_type": "stream",
     "text": [
      "<class 'int'>\n"
     ]
    }
   ],
   "source": [
    "a = 123\n",
    "print (type(a))"
   ]
  },
  {
   "cell_type": "code",
   "execution_count": 2,
   "metadata": {},
   "outputs": [
    {
     "name": "stdout",
     "output_type": "stream",
     "text": [
      "12 + 12 = 24\n"
     ]
    }
   ],
   "source": [
    "a = int(input('a = '))\n",
    "b = int(input('b = '))\n",
    "print('%d + %d = %d' % (a, b, a+b))"
   ]
  },
  {
   "cell_type": "code",
   "execution_count": 3,
   "metadata": {},
   "outputs": [
    {
     "name": "stdout",
     "output_type": "stream",
     "text": [
      "195\n"
     ]
    }
   ],
   "source": [
    "a = 10\n",
    "b = 3\n",
    "a += b\n",
    "a *= a + 2\n",
    "print (a)"
   ]
  },
  {
   "cell_type": "code",
   "execution_count": 13,
   "metadata": {},
   "outputs": [
    {
     "name": "stdout",
     "output_type": "stream",
     "text": [
      "29393.0华氏度 = 16311.7 摄氏度\n",
      "29393.0华氏度 = 16311.7摄氏度\n"
     ]
    }
   ],
   "source": [
    "h = float(input('请输入华氏温度'))\n",
    "s = (h - 32)/1.8\n",
    "print ('%.1f华氏度 = %.1f 摄氏度' % (h,s))\n",
    "print(f'{h:.1f}华氏度 = {s:.1f}摄氏度')"
   ]
  },
  {
   "cell_type": "code",
   "execution_count": 15,
   "metadata": {},
   "outputs": [
    {
     "name": "stdout",
     "output_type": "stream",
     "text": [
      "圆周长为38795.527017, 圆面积为239542981.568936\n"
     ]
    }
   ],
   "source": [
    "r = float(input('请输入圆的半径'))\n",
    "circ = 3.1415926 * r\n",
    "area = 3.1415926 * r * r /2\n",
    "print ('圆周长为%f, 圆面积为%f' % (circ,area))"
   ]
  },
  {
   "cell_type": "code",
   "execution_count": 18,
   "metadata": {},
   "outputs": [
    {
     "name": "stdout",
     "output_type": "stream",
     "text": [
      "False\n"
     ]
    }
   ],
   "source": [
    "year = int(input('请输入年份'))\n",
    "is_leap = year % 4 == 0 and year % 100 != 0 or year % 400 == 0\n",
    "print (is_leap)"
   ]
  },
  {
   "cell_type": "code",
   "execution_count": 21,
   "metadata": {},
   "outputs": [
    {
     "name": "stdout",
     "output_type": "stream",
     "text": [
      "用户验证正确\n"
     ]
    }
   ],
   "source": [
    "username = input('请输入用户名')\n",
    "password = input('请输入密码')\n",
    "\n",
    "if username == 'admin' and password == '123456':\n",
    "    print('用户验证正确')\n",
    "else:\n",
    "    print('用户验证错误')"
   ]
  },
  {
   "cell_type": "code",
   "execution_count": 26,
   "metadata": {},
   "outputs": [
    {
     "name": "stdout",
     "output_type": "stream",
     "text": [
      "请输入有效单位\n"
     ]
    }
   ],
   "source": [
    "value = float(input('请输入长度:'))\n",
    "unit = input('请输入单位:')\n",
    "\n",
    "if unit == '英寸':\n",
    "    print('%.1f英寸 = %.1f厘米' % (value, value*2.54))\n",
    "elif unit == '厘米':\n",
    "    print('%.1f厘米 = %.1f英寸' % (value, value/2.54))\n",
    "else:\n",
    "    print('请输入有效单位')"
   ]
  },
  {
   "cell_type": "code",
   "execution_count": 28,
   "metadata": {},
   "outputs": [
    {
     "name": "stdout",
     "output_type": "stream",
     "text": [
      "A\n"
     ]
    }
   ],
   "source": [
    "value = float(input('请输入百分制成绩'))\n",
    "\n",
    "if value >= 90 :\n",
    "    rank = 'A'\n",
    "elif value >= 80 :\n",
    "    rank = 'B'\n",
    "elif value >= 70 :\n",
    "    rank = 'C'\n",
    "elif value >= 60 :\n",
    "    rank = 'D'\n",
    "else:\n",
    "    rank = 'E'\n",
    "print(rank)\n",
    "\n",
    "    "
   ]
  },
  {
   "cell_type": "code",
   "execution_count": 35,
   "metadata": {},
   "outputs": [
    {
     "name": "stdout",
     "output_type": "stream",
     "text": [
      "不能构成三角形\n"
     ]
    }
   ],
   "source": [
    "a = float(input())\n",
    "b = float(input())\n",
    "c = float(input())\n",
    "\n",
    "if a+b > c and a+c > b and b+c > a :\n",
    "    print('周长: %.1f' % (a+b+c))\n",
    "else:\n",
    "    print('不能构成三角形')"
   ]
  }
 ],
 "metadata": {
  "kernelspec": {
   "display_name": "Python 3.10.4 ('python')",
   "language": "python",
   "name": "python3"
  },
  "language_info": {
   "codemirror_mode": {
    "name": "ipython",
    "version": 3
   },
   "file_extension": ".py",
   "mimetype": "text/x-python",
   "name": "python",
   "nbconvert_exporter": "python",
   "pygments_lexer": "ipython3",
   "version": "3.10.4"
  },
  "orig_nbformat": 4,
  "vscode": {
   "interpreter": {
    "hash": "dc1f777b09e7102d0df6f1533796a85b275ed0b48ae9b693e2b92a8cb2e4ac31"
   }
  }
 },
 "nbformat": 4,
 "nbformat_minor": 2
}
